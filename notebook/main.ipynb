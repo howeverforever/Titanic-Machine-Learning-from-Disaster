{
 "cells": [
  {
   "cell_type": "markdown",
   "metadata": {},
   "source": [
    "# Load"
   ]
  },
  {
   "cell_type": "code",
   "execution_count": 1,
   "metadata": {
    "ExecuteTime": {
     "end_time": "2020-12-08T10:20:37.698471Z",
     "start_time": "2020-12-08T10:20:35.887538Z"
    }
   },
   "outputs": [
    {
     "data": {
      "text/html": [
       "<style type='text/css'>\n",
       ".datatable table.frame { margin-bottom: 0; }\n",
       ".datatable table.frame thead { border-bottom: none; }\n",
       ".datatable table.frame tr.coltypes td {  color: #FFFFFF;  line-height: 6px;  padding: 0 0.5em;}\n",
       ".datatable .bool    { background: #DDDD99; }\n",
       ".datatable .object  { background: #565656; }\n",
       ".datatable .int     { background: #5D9E5D; }\n",
       ".datatable .float   { background: #4040CC; }\n",
       ".datatable .str     { background: #CC4040; }\n",
       ".datatable .row_index {  background: var(--jp-border-color3);  border-right: 1px solid var(--jp-border-color0);  color: var(--jp-ui-font-color3);  font-size: 9px;}\n",
       ".datatable .frame tr.coltypes .row_index {  background: var(--jp-border-color0);}\n",
       ".datatable th:nth-child(2) { padding-left: 12px; }\n",
       ".datatable .hellipsis {  color: var(--jp-cell-editor-border-color);}\n",
       ".datatable .vellipsis {  background: var(--jp-layout-color0);  color: var(--jp-cell-editor-border-color);}\n",
       ".datatable .na {  color: var(--jp-cell-editor-border-color);  font-size: 80%;}\n",
       ".datatable .footer { font-size: 9px; }\n",
       ".datatable .frame_dimensions {  background: var(--jp-border-color3);  border-top: 1px solid var(--jp-border-color0);  color: var(--jp-ui-font-color3);  display: inline-block;  opacity: 0.6;  padding: 1px 10px 1px 5px;}\n",
       ".datatable .frame thead tr.colnames {  background-image: url('data:image/png;base64,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');  background-repeat: repeat-x;  background-size: 14px;  height: 28px;}\n",
       "</style>\n"
      ],
      "text/plain": [
       "<IPython.core.display.HTML object>"
      ]
     },
     "metadata": {},
     "output_type": "display_data"
    }
   ],
   "source": [
    "import numpy as np\n",
    "import pandas as pd\n",
    "\n",
    "import datatable as dt\n",
    "import gc\n",
    "import re\n",
    "\n",
    "import matplotlib.pyplot as plt\n",
    "import seaborn as sns\n",
    "import plotly.express as px\n",
    "from plotly.subplots import make_subplots\n",
    "import plotly.graph_objs as go\n",
    "\n",
    "import warnings\n",
    "warnings.filterwarnings('ignore')\n",
    "\n",
    "import shap\n",
    "from scipy import stats\n",
    "from tqdm import tqdm\n",
    "import optuna\n",
    "from optuna.samplers import TPESampler\n",
    "import lightgbm as lgb\n",
    "from lightgbm import LGBMClassifier, LGBMModel\n",
    "\n",
    "from sklearn.tree import DecisionTreeClassifier\n",
    "from sklearn.feature_selection import RFE\n",
    "from sklearn.model_selection import train_test_split\n",
    "from sklearn.metrics import accuracy_score\n",
    "from sklearn.model_selection import KFold, StratifiedKFold\n",
    "from sklearn.preprocessing import LabelEncoder\n",
    "\n",
    "from collections import defaultdict\n",
    "import joblib\n",
    "import json\n",
    "\n",
    "# these imports are used to convert the tree to PNG\n",
    "from cairosvg import svg2png\n",
    "from PIL import Image\n",
    "from io import BytesIO\n",
    "\n",
    "from pandas_profiling import ProfileReport\n",
    "\n",
    "sns.set(style='whitegrid', font_scale=1.5)\n",
    "\n",
    "INPUT_DIR = '../input/titanic'\n",
    "\n",
    "TARGET = 'Survived'\n",
    "RANDOM_STATE = 997\n",
    "VERSION = 1"
   ]
  },
  {
   "cell_type": "code",
   "execution_count": 2,
   "metadata": {
    "ExecuteTime": {
     "end_time": "2020-12-08T10:20:37.708498Z",
     "start_time": "2020-12-08T10:20:37.700283Z"
    }
   },
   "outputs": [],
   "source": [
    "full_train_df = pd.read_csv(f'{INPUT_DIR}/train.csv')\n",
    "full_test_df = pd.read_csv(f'{INPUT_DIR}/test.csv')"
   ]
  },
  {
   "cell_type": "markdown",
   "metadata": {},
   "source": [
    "# Train set"
   ]
  },
  {
   "cell_type": "code",
   "execution_count": 3,
   "metadata": {
    "ExecuteTime": {
     "end_time": "2020-12-08T10:20:37.791311Z",
     "start_time": "2020-12-08T10:20:37.709780Z"
    }
   },
   "outputs": [
    {
     "name": "stdout",
     "output_type": "stream",
     "text": [
      "<class 'pandas.core.frame.DataFrame'>\n",
      "RangeIndex: 891 entries, 0 to 890\n",
      "Data columns (total 12 columns):\n",
      " #   Column       Non-Null Count  Dtype  \n",
      "---  ------       --------------  -----  \n",
      " 0   PassengerId  891 non-null    int64  \n",
      " 1   Survived     891 non-null    int64  \n",
      " 2   Pclass       891 non-null    int64  \n",
      " 3   Name         891 non-null    object \n",
      " 4   Sex          891 non-null    object \n",
      " 5   Age          714 non-null    float64\n",
      " 6   SibSp        891 non-null    int64  \n",
      " 7   Parch        891 non-null    int64  \n",
      " 8   Ticket       891 non-null    object \n",
      " 9   Fare         891 non-null    float64\n",
      " 10  Cabin        204 non-null    object \n",
      " 11  Embarked     889 non-null    object \n",
      "dtypes: float64(2), int64(5), object(5)\n",
      "memory usage: 83.7+ KB\n"
     ]
    },
    {
     "data": {
      "text/html": [
       "<div>\n",
       "<style scoped>\n",
       "    .dataframe tbody tr th:only-of-type {\n",
       "        vertical-align: middle;\n",
       "    }\n",
       "\n",
       "    .dataframe tbody tr th {\n",
       "        vertical-align: top;\n",
       "    }\n",
       "\n",
       "    .dataframe thead th {\n",
       "        text-align: right;\n",
       "    }\n",
       "</style>\n",
       "<table border=\"1\" class=\"dataframe\">\n",
       "  <thead>\n",
       "    <tr style=\"text-align: right;\">\n",
       "      <th></th>\n",
       "      <th>PassengerId</th>\n",
       "      <th>Survived</th>\n",
       "      <th>Pclass</th>\n",
       "      <th>Age</th>\n",
       "      <th>SibSp</th>\n",
       "      <th>Parch</th>\n",
       "      <th>Fare</th>\n",
       "    </tr>\n",
       "  </thead>\n",
       "  <tbody>\n",
       "    <tr>\n",
       "      <th>count</th>\n",
       "      <td>891.000000</td>\n",
       "      <td>891.000000</td>\n",
       "      <td>891.000000</td>\n",
       "      <td>714.000000</td>\n",
       "      <td>891.000000</td>\n",
       "      <td>891.000000</td>\n",
       "      <td>891.000000</td>\n",
       "    </tr>\n",
       "    <tr>\n",
       "      <th>mean</th>\n",
       "      <td>446.000000</td>\n",
       "      <td>0.383838</td>\n",
       "      <td>2.308642</td>\n",
       "      <td>29.699118</td>\n",
       "      <td>0.523008</td>\n",
       "      <td>0.381594</td>\n",
       "      <td>32.204208</td>\n",
       "    </tr>\n",
       "    <tr>\n",
       "      <th>std</th>\n",
       "      <td>257.353842</td>\n",
       "      <td>0.486592</td>\n",
       "      <td>0.836071</td>\n",
       "      <td>14.526497</td>\n",
       "      <td>1.102743</td>\n",
       "      <td>0.806057</td>\n",
       "      <td>49.693429</td>\n",
       "    </tr>\n",
       "    <tr>\n",
       "      <th>min</th>\n",
       "      <td>1.000000</td>\n",
       "      <td>0.000000</td>\n",
       "      <td>1.000000</td>\n",
       "      <td>0.420000</td>\n",
       "      <td>0.000000</td>\n",
       "      <td>0.000000</td>\n",
       "      <td>0.000000</td>\n",
       "    </tr>\n",
       "    <tr>\n",
       "      <th>25%</th>\n",
       "      <td>223.500000</td>\n",
       "      <td>0.000000</td>\n",
       "      <td>2.000000</td>\n",
       "      <td>20.125000</td>\n",
       "      <td>0.000000</td>\n",
       "      <td>0.000000</td>\n",
       "      <td>7.910400</td>\n",
       "    </tr>\n",
       "    <tr>\n",
       "      <th>50%</th>\n",
       "      <td>446.000000</td>\n",
       "      <td>0.000000</td>\n",
       "      <td>3.000000</td>\n",
       "      <td>28.000000</td>\n",
       "      <td>0.000000</td>\n",
       "      <td>0.000000</td>\n",
       "      <td>14.454200</td>\n",
       "    </tr>\n",
       "    <tr>\n",
       "      <th>75%</th>\n",
       "      <td>668.500000</td>\n",
       "      <td>1.000000</td>\n",
       "      <td>3.000000</td>\n",
       "      <td>38.000000</td>\n",
       "      <td>1.000000</td>\n",
       "      <td>0.000000</td>\n",
       "      <td>31.000000</td>\n",
       "    </tr>\n",
       "    <tr>\n",
       "      <th>max</th>\n",
       "      <td>891.000000</td>\n",
       "      <td>1.000000</td>\n",
       "      <td>3.000000</td>\n",
       "      <td>80.000000</td>\n",
       "      <td>8.000000</td>\n",
       "      <td>6.000000</td>\n",
       "      <td>512.329200</td>\n",
       "    </tr>\n",
       "  </tbody>\n",
       "</table>\n",
       "</div>"
      ],
      "text/plain": [
       "       PassengerId    Survived      Pclass         Age       SibSp  \\\n",
       "count   891.000000  891.000000  891.000000  714.000000  891.000000   \n",
       "mean    446.000000    0.383838    2.308642   29.699118    0.523008   \n",
       "std     257.353842    0.486592    0.836071   14.526497    1.102743   \n",
       "min       1.000000    0.000000    1.000000    0.420000    0.000000   \n",
       "25%     223.500000    0.000000    2.000000   20.125000    0.000000   \n",
       "50%     446.000000    0.000000    3.000000   28.000000    0.000000   \n",
       "75%     668.500000    1.000000    3.000000   38.000000    1.000000   \n",
       "max     891.000000    1.000000    3.000000   80.000000    8.000000   \n",
       "\n",
       "            Parch        Fare  \n",
       "count  891.000000  891.000000  \n",
       "mean     0.381594   32.204208  \n",
       "std      0.806057   49.693429  \n",
       "min      0.000000    0.000000  \n",
       "25%      0.000000    7.910400  \n",
       "50%      0.000000   14.454200  \n",
       "75%      0.000000   31.000000  \n",
       "max      6.000000  512.329200  "
      ]
     },
     "execution_count": 3,
     "metadata": {},
     "output_type": "execute_result"
    }
   ],
   "source": [
    "full_train_df.info()\n",
    "full_train_df.describe()"
   ]
  },
  {
   "cell_type": "code",
   "execution_count": 4,
   "metadata": {
    "ExecuteTime": {
     "end_time": "2020-12-08T10:20:53.137425Z",
     "start_time": "2020-12-08T10:20:37.792405Z"
    }
   },
   "outputs": [
    {
     "data": {
      "application/vnd.jupyter.widget-view+json": {
       "model_id": "5e50de94ca534acbb5751d957579c8d5",
       "version_major": 2,
       "version_minor": 0
      },
      "text/plain": [
       "VBox(children=(Tab(children=(Tab(children=(GridBox(children=(VBox(children=(GridspecLayout(children=(HTML(valu…"
      ]
     },
     "metadata": {},
     "output_type": "display_data"
    }
   ],
   "source": [
    "ProfileReport(full_train_df, progress_bar=False).to_widgets()"
   ]
  },
  {
   "cell_type": "markdown",
   "metadata": {},
   "source": [
    "# Train LGBM"
   ]
  },
  {
   "cell_type": "code",
   "execution_count": 5,
   "metadata": {
    "ExecuteTime": {
     "end_time": "2020-12-08T10:20:53.142016Z",
     "start_time": "2020-12-08T10:20:53.139118Z"
    }
   },
   "outputs": [],
   "source": [
    "train_df = full_train_df.copy()\n",
    "test_df = full_test_df.copy()"
   ]
  },
  {
   "cell_type": "code",
   "execution_count": 6,
   "metadata": {
    "ExecuteTime": {
     "end_time": "2020-12-08T10:20:53.162240Z",
     "start_time": "2020-12-08T10:20:53.144395Z"
    }
   },
   "outputs": [
    {
     "data": {
      "text/plain": [
       "Index(['Pclass', 'Name', 'Sex', 'Age', 'SibSp', 'Parch', 'Ticket', 'Fare',\n",
       "       'Cabin', 'Embarked'],\n",
       "      dtype='object')"
      ]
     },
     "execution_count": 6,
     "metadata": {},
     "output_type": "execute_result"
    }
   ],
   "source": [
    "CATEGORIAL_FEATURES = [\n",
    "    'Pclass',\n",
    "    'Name',\n",
    "    'Sex',\n",
    "    'Ticket',\n",
    "    'Cabin',\n",
    "    'Embarked'\n",
    "]\n",
    "FEATURES = train_df.columns.drop(['PassengerId', TARGET])\n",
    "FEATURES"
   ]
  },
  {
   "cell_type": "markdown",
   "metadata": {},
   "source": [
    "## Define FE"
   ]
  },
  {
   "cell_type": "code",
   "execution_count": 7,
   "metadata": {
    "ExecuteTime": {
     "end_time": "2020-12-08T10:20:53.174054Z",
     "start_time": "2020-12-08T10:20:53.165842Z"
    }
   },
   "outputs": [],
   "source": [
    "def feature_engineering(df: pd.DataFrame) -> pd.DataFrame:\n",
    "    df['Age'].fillna(df['Age'].mean(), inplace=True)\n",
    "    df['Embarked'] = df['Embarked'].fillna(\n",
    "        pd.Series(np.random.choice(['S', 'C', 'Q'], p=[0.724, 0.189, 0.087], size=len(df))))\n",
    "    df['Cabin'].fillna('?', inplace=True)\n",
    "    \n",
    "    for col_ in CATEGORIAL_FEATURES:\n",
    "        df[col_] = df[col_].astype('category')\n",
    "    \n",
    "    return df"
   ]
  },
  {
   "cell_type": "markdown",
   "metadata": {},
   "source": [
    "## Train FE"
   ]
  },
  {
   "cell_type": "code",
   "execution_count": 8,
   "metadata": {
    "ExecuteTime": {
     "end_time": "2020-12-08T10:20:53.285968Z",
     "start_time": "2020-12-08T10:20:53.175259Z"
    }
   },
   "outputs": [
    {
     "name": "stdout",
     "output_type": "stream",
     "text": [
      "<class 'pandas.core.frame.DataFrame'>\n",
      "RangeIndex: 891 entries, 0 to 890\n",
      "Data columns (total 12 columns):\n",
      " #   Column       Non-Null Count  Dtype   \n",
      "---  ------       --------------  -----   \n",
      " 0   PassengerId  891 non-null    int64   \n",
      " 1   Survived     891 non-null    int64   \n",
      " 2   Pclass       891 non-null    category\n",
      " 3   Name         891 non-null    category\n",
      " 4   Sex          891 non-null    category\n",
      " 5   Age          891 non-null    float64 \n",
      " 6   SibSp        891 non-null    int64   \n",
      " 7   Parch        891 non-null    int64   \n",
      " 8   Ticket       891 non-null    category\n",
      " 9   Fare         891 non-null    float64 \n",
      " 10  Cabin        891 non-null    category\n",
      " 11  Embarked     891 non-null    category\n",
      "dtypes: category(6), float64(2), int64(4)\n",
      "memory usage: 128.5 KB\n"
     ]
    },
    {
     "data": {
      "text/plain": [
       "PassengerId    0.0\n",
       "Survived       0.0\n",
       "Pclass         0.0\n",
       "Name           0.0\n",
       "Sex            0.0\n",
       "Age            0.0\n",
       "SibSp          0.0\n",
       "Parch          0.0\n",
       "Ticket         0.0\n",
       "Fare           0.0\n",
       "Cabin          0.0\n",
       "Embarked       0.0\n",
       "dtype: float64"
      ]
     },
     "execution_count": 8,
     "metadata": {},
     "output_type": "execute_result"
    }
   ],
   "source": [
    "train_df = feature_engineering(train_df)\n",
    "\n",
    "train_df.info()\n",
    "train_df.isnull().sum() / len(train_df)"
   ]
  },
  {
   "cell_type": "markdown",
   "metadata": {},
   "source": [
    "## Test FE"
   ]
  },
  {
   "cell_type": "code",
   "execution_count": 9,
   "metadata": {
    "ExecuteTime": {
     "end_time": "2020-12-08T10:20:53.364755Z",
     "start_time": "2020-12-08T10:20:53.287070Z"
    }
   },
   "outputs": [
    {
     "name": "stdout",
     "output_type": "stream",
     "text": [
      "<class 'pandas.core.frame.DataFrame'>\n",
      "RangeIndex: 418 entries, 0 to 417\n",
      "Data columns (total 11 columns):\n",
      " #   Column       Non-Null Count  Dtype   \n",
      "---  ------       --------------  -----   \n",
      " 0   PassengerId  418 non-null    int64   \n",
      " 1   Pclass       418 non-null    category\n",
      " 2   Name         418 non-null    category\n",
      " 3   Sex          418 non-null    category\n",
      " 4   Age          418 non-null    float64 \n",
      " 5   SibSp        418 non-null    int64   \n",
      " 6   Parch        418 non-null    int64   \n",
      " 7   Ticket       418 non-null    category\n",
      " 8   Fare         417 non-null    float64 \n",
      " 9   Cabin        418 non-null    category\n",
      " 10  Embarked     418 non-null    category\n",
      "dtypes: category(6), float64(2), int64(3)\n",
      "memory usage: 59.2 KB\n"
     ]
    },
    {
     "data": {
      "text/plain": [
       "PassengerId    0.000000\n",
       "Pclass         0.000000\n",
       "Name           0.000000\n",
       "Sex            0.000000\n",
       "Age            0.000000\n",
       "SibSp          0.000000\n",
       "Parch          0.000000\n",
       "Ticket         0.000000\n",
       "Fare           0.002392\n",
       "Cabin          0.000000\n",
       "Embarked       0.000000\n",
       "dtype: float64"
      ]
     },
     "execution_count": 9,
     "metadata": {},
     "output_type": "execute_result"
    }
   ],
   "source": [
    "test_df = feature_engineering(test_df)\n",
    "\n",
    "test_df.info()\n",
    "test_df.isnull().sum() / len(test_df)"
   ]
  },
  {
   "cell_type": "markdown",
   "metadata": {},
   "source": [
    "## Tune"
   ]
  },
  {
   "cell_type": "code",
   "execution_count": 10,
   "metadata": {
    "ExecuteTime": {
     "end_time": "2020-12-08T10:20:55.681358Z",
     "start_time": "2020-12-08T10:20:53.365845Z"
    },
    "scrolled": true
   },
   "outputs": [
    {
     "name": "stderr",
     "output_type": "stream",
     "text": [
      "\u001b[32m[I 2020-12-08 18:20:53,374]\u001b[0m A new study created in memory with name: no-name-5132e447-77e6-49da-91f1-43d625345c59\u001b[0m\n",
      "\u001b[32m[I 2020-12-08 18:20:53,457]\u001b[0m Trial 0 finished with value: 0.7918660287081339 and parameters: {'learning_rate': 0.451148188357339, 'num_leaves': 106, 'max_depth': 12, 'min_data_in_leaf': 93}. Best is trial 0 with value: 0.7918660287081339.\u001b[0m\n"
     ]
    },
    {
     "name": "stdout",
     "output_type": "stream",
     "text": [
      "Training until validation scores don't improve for 10 rounds\n",
      "[10]\ttraining's binary_logloss: 0.405539\tvalid_1's binary_logloss: 0.473334\n",
      "[20]\ttraining's binary_logloss: 0.381259\tvalid_1's binary_logloss: 0.464568\n",
      "[30]\ttraining's binary_logloss: 0.367217\tvalid_1's binary_logloss: 0.463153\n",
      "[40]\ttraining's binary_logloss: 0.357683\tvalid_1's binary_logloss: 0.463152\n",
      "Early stopping, best iteration is:\n",
      "[31]\ttraining's binary_logloss: 0.366282\tvalid_1's binary_logloss: 0.462803\n",
      "Training until validation scores don't improve for 10 rounds\n",
      "[10]\ttraining's binary_logloss: 0.466946\tvalid_1's binary_logloss: 0.501731\n",
      "[20]\ttraining's binary_logloss: 0.431692\tvalid_1's binary_logloss: 0.48465\n",
      "[30]\ttraining's binary_logloss: 0.409889\tvalid_1's binary_logloss: 0.475057\n",
      "[40]\ttraining's binary_logloss: 0.395859\tvalid_1's binary_logloss: 0.471372\n",
      "[50]\ttraining's binary_logloss: 0.386485\tvalid_1's binary_logloss: 0.468994\n",
      "[60]\ttraining's binary_logloss: 0.378952\tvalid_1's binary_logloss: 0.467235\n",
      "[70]\ttraining's binary_logloss: 0.371562\tvalid_1's binary_logloss: 0.463606\n",
      "[80]\ttraining's binary_logloss: 0.36578\tvalid_1's binary_logloss: 0.462076\n",
      "[90]\ttraining's binary_logloss: 0.360819\tvalid_1's binary_logloss: 0.45989\n",
      "[100]\ttraining's binary_logloss: 0.355774\tvalid_1's binary_logloss: 0.457976\n",
      "[110]\ttraining's binary_logloss: 0.351739\tvalid_1's binary_logloss: 0.455673\n",
      "[120]\ttraining's binary_logloss: 0.347988\tvalid_1's binary_logloss: 0.454582\n",
      "[130]\ttraining's binary_logloss: 0.344414\tvalid_1's binary_logloss: 0.452531\n",
      "[140]\ttraining's binary_logloss: 0.340659\tvalid_1's binary_logloss: 0.45026\n",
      "Early stopping, best iteration is:\n",
      "[139]\ttraining's binary_logloss: 0.34093\tvalid_1's binary_logloss: 0.449806\n"
     ]
    },
    {
     "name": "stderr",
     "output_type": "stream",
     "text": [
      "\u001b[32m[I 2020-12-08 18:20:53,648]\u001b[0m Trial 1 finished with value: 0.8086124401913876 and parameters: {'learning_rate': 0.09735105884703202, 'num_leaves': 57, 'max_depth': 9, 'min_data_in_leaf': 79}. Best is trial 1 with value: 0.8086124401913876.\u001b[0m\n"
     ]
    },
    {
     "name": "stdout",
     "output_type": "stream",
     "text": [
      "Training until validation scores don't improve for 10 rounds\n",
      "[10]\ttraining's binary_logloss: 0.3129\tvalid_1's binary_logloss: 0.440529\n"
     ]
    },
    {
     "name": "stderr",
     "output_type": "stream",
     "text": [
      "\u001b[32m[I 2020-12-08 18:20:53,761]\u001b[0m Trial 2 finished with value: 0.8133971291866029 and parameters: {'learning_rate': 0.4795064893506527, 'num_leaves': 25, 'max_depth': 16, 'min_data_in_leaf': 36}. Best is trial 2 with value: 0.8133971291866029.\u001b[0m\n"
     ]
    },
    {
     "name": "stdout",
     "output_type": "stream",
     "text": [
      "Early stopping, best iteration is:\n",
      "[8]\ttraining's binary_logloss: 0.328189\tvalid_1's binary_logloss: 0.436141\n"
     ]
    },
    {
     "name": "stderr",
     "output_type": "stream",
     "text": [
      "\u001b[32m[I 2020-12-08 18:20:53,856]\u001b[0m Trial 3 finished with value: 0.8205741626794258 and parameters: {'learning_rate': 0.34627320123520855, 'num_leaves': 43, 'max_depth': 14, 'min_data_in_leaf': 44}. Best is trial 3 with value: 0.8205741626794258.\u001b[0m\n"
     ]
    },
    {
     "name": "stdout",
     "output_type": "stream",
     "text": [
      "Training until validation scores don't improve for 10 rounds\n",
      "[10]\ttraining's binary_logloss: 0.356074\tvalid_1's binary_logloss: 0.448992\n",
      "[20]\ttraining's binary_logloss: 0.307897\tvalid_1's binary_logloss: 0.438952\n",
      "Early stopping, best iteration is:\n",
      "[13]\ttraining's binary_logloss: 0.336757\tvalid_1's binary_logloss: 0.437365\n",
      "Training until validation scores don't improve for 10 rounds\n"
     ]
    },
    {
     "name": "stderr",
     "output_type": "stream",
     "text": [
      "\u001b[32m[I 2020-12-08 18:20:53,966]\u001b[0m Trial 4 finished with value: 0.8157894736842105 and parameters: {'learning_rate': 0.5292233869945261, 'num_leaves': 84, 'max_depth': 5, 'min_data_in_leaf': 31}. Best is trial 3 with value: 0.8205741626794258.\u001b[0m\n"
     ]
    },
    {
     "name": "stdout",
     "output_type": "stream",
     "text": [
      "[10]\ttraining's binary_logloss: 0.311581\tvalid_1's binary_logloss: 0.444752\n",
      "[20]\ttraining's binary_logloss: 0.250242\tvalid_1's binary_logloss: 0.451891\n",
      "Early stopping, best iteration is:\n",
      "[13]\ttraining's binary_logloss: 0.288103\tvalid_1's binary_logloss: 0.440216\n"
     ]
    },
    {
     "name": "stderr",
     "output_type": "stream",
     "text": [
      "\u001b[32m[I 2020-12-08 18:20:54,066]\u001b[0m Trial 5 finished with value: 0.8205741626794258 and parameters: {'learning_rate': 0.22133454130736518, 'num_leaves': 76, 'max_depth': 26, 'min_data_in_leaf': 38}. Best is trial 3 with value: 0.8205741626794258.\u001b[0m\n"
     ]
    },
    {
     "name": "stdout",
     "output_type": "stream",
     "text": [
      "Training until validation scores don't improve for 10 rounds\n",
      "[10]\ttraining's binary_logloss: 0.383984\tvalid_1's binary_logloss: 0.459488\n",
      "[20]\ttraining's binary_logloss: 0.325238\tvalid_1's binary_logloss: 0.439788\n",
      "[30]\ttraining's binary_logloss: 0.291695\tvalid_1's binary_logloss: 0.4407\n",
      "Early stopping, best iteration is:\n",
      "[29]\ttraining's binary_logloss: 0.294056\tvalid_1's binary_logloss: 0.438284\n",
      "Training until validation scores don't improve for 10 rounds\n",
      "[10]\ttraining's binary_logloss: 0.400506\tvalid_1's binary_logloss: 0.468192\n",
      "[20]\ttraining's binary_logloss: 0.348716\tvalid_1's binary_logloss: 0.45222\n",
      "[30]\ttraining's binary_logloss: 0.321762\tvalid_1's binary_logloss: 0.443229\n",
      "[40]\ttraining's binary_logloss: 0.306243\tvalid_1's binary_logloss: 0.441721\n",
      "[50]\ttraining's binary_logloss: 0.292916\tvalid_1's binary_logloss: 0.442701\n",
      "Early stopping, best iteration is:\n",
      "[42]\ttraining's binary_logloss: 0.303062\tvalid_1's binary_logloss: 0.437851\n"
     ]
    },
    {
     "name": "stderr",
     "output_type": "stream",
     "text": [
      "\u001b[32m[I 2020-12-08 18:20:54,212]\u001b[0m Trial 6 finished with value: 0.8133971291866029 and parameters: {'learning_rate': 0.2364543025896401, 'num_leaves': 15, 'max_depth': 10, 'min_data_in_leaf': 53}. Best is trial 3 with value: 0.8205741626794258.\u001b[0m\n",
      "\u001b[32m[I 2020-12-08 18:20:54,298]\u001b[0m Trial 7 finished with value: 0.7631578947368421 and parameters: {'learning_rate': 0.25673775652603426, 'num_leaves': 110, 'max_depth': 26, 'min_data_in_leaf': 117}. Best is trial 3 with value: 0.8205741626794258.\u001b[0m\n"
     ]
    },
    {
     "name": "stdout",
     "output_type": "stream",
     "text": [
      "Training until validation scores don't improve for 10 rounds\n",
      "[10]\ttraining's binary_logloss: 0.447694\tvalid_1's binary_logloss: 0.500242\n",
      "[20]\ttraining's binary_logloss: 0.423217\tvalid_1's binary_logloss: 0.491847\n",
      "[30]\ttraining's binary_logloss: 0.410514\tvalid_1's binary_logloss: 0.487445\n",
      "Early stopping, best iteration is:\n",
      "[28]\ttraining's binary_logloss: 0.411933\tvalid_1's binary_logloss: 0.487404\n"
     ]
    },
    {
     "name": "stderr",
     "output_type": "stream",
     "text": [
      "\u001b[32m[I 2020-12-08 18:20:54,383]\u001b[0m Trial 8 finished with value: 0.8157894736842105 and parameters: {'learning_rate': 0.6347726791357056, 'num_leaves': 99, 'max_depth': 12, 'min_data_in_leaf': 19}. Best is trial 3 with value: 0.8205741626794258.\u001b[0m\n"
     ]
    },
    {
     "name": "stdout",
     "output_type": "stream",
     "text": [
      "Training until validation scores don't improve for 10 rounds\n",
      "[10]\ttraining's binary_logloss: 0.198067\tvalid_1's binary_logloss: 0.484918\n",
      "Early stopping, best iteration is:\n",
      "[3]\ttraining's binary_logloss: 0.335696\tvalid_1's binary_logloss: 0.422909\n",
      "Training until validation scores don't improve for 10 rounds\n",
      "[10]\ttraining's binary_logloss: 0.332263\tvalid_1's binary_logloss: 0.448087\n",
      "[20]\ttraining's binary_logloss: 0.292535\tvalid_1's binary_logloss: 0.466153\n",
      "Early stopping, best iteration is:\n",
      "[10]\ttraining's binary_logloss: 0.332263\tvalid_1's binary_logloss: 0.448087\n"
     ]
    },
    {
     "name": "stderr",
     "output_type": "stream",
     "text": [
      "\u001b[32m[I 2020-12-08 18:20:54,462]\u001b[0m Trial 9 finished with value: 0.7918660287081339 and parameters: {'learning_rate': 0.7549816605025265, 'num_leaves': 121, 'max_depth': 15, 'min_data_in_leaf': 58}. Best is trial 3 with value: 0.8205741626794258.\u001b[0m\n"
     ]
    },
    {
     "name": "stdout",
     "output_type": "stream",
     "text": [
      "Training until validation scores don't improve for 10 rounds\n",
      "[10]\ttraining's binary_logloss: 0.396938\tvalid_1's binary_logloss: 0.486664\n",
      "[20]\ttraining's binary_logloss: 0.366999\tvalid_1's binary_logloss: 0.47504\n",
      "[30]\ttraining's binary_logloss: 0.346591\tvalid_1's binary_logloss: 0.466027\n"
     ]
    },
    {
     "name": "stderr",
     "output_type": "stream",
     "text": [
      "\u001b[32m[I 2020-12-08 18:20:54,573]\u001b[0m Trial 10 finished with value: 0.80622009569378 and parameters: {'learning_rate': 0.9524733607334697, 'num_leaves': 46, 'max_depth': 21, 'min_data_in_leaf': 100}. Best is trial 3 with value: 0.8205741626794258.\u001b[0m\n"
     ]
    },
    {
     "name": "stdout",
     "output_type": "stream",
     "text": [
      "[40]\ttraining's binary_logloss: 0.332963\tvalid_1's binary_logloss: 0.467013\n",
      "Early stopping, best iteration is:\n",
      "[33]\ttraining's binary_logloss: 0.342175\tvalid_1's binary_logloss: 0.462616\n",
      "Training until validation scores don't improve for 10 rounds\n",
      "[10]\ttraining's binary_logloss: 0.533696\tvalid_1's binary_logloss: 0.554027\n",
      "[20]\ttraining's binary_logloss: 0.47207\tvalid_1's binary_logloss: 0.507983\n",
      "[30]\ttraining's binary_logloss: 0.438155\tvalid_1's binary_logloss: 0.489344\n",
      "[40]\ttraining's binary_logloss: 0.418499\tvalid_1's binary_logloss: 0.479131\n",
      "[50]\ttraining's binary_logloss: 0.399471\tvalid_1's binary_logloss: 0.467525\n",
      "[60]\ttraining's binary_logloss: 0.384325\tvalid_1's binary_logloss: 0.457944\n",
      "[70]\ttraining's binary_logloss: 0.373301\tvalid_1's binary_logloss: 0.452207\n",
      "[80]\ttraining's binary_logloss: 0.363775\tvalid_1's binary_logloss: 0.449566\n",
      "[90]\ttraining's binary_logloss: 0.356079\tvalid_1's binary_logloss: 0.447198\n",
      "[100]\ttraining's binary_logloss: 0.34927\tvalid_1's binary_logloss: 0.4468\n",
      "[110]\ttraining's binary_logloss: 0.342805\tvalid_1's binary_logloss: 0.443987\n",
      "[120]\ttraining's binary_logloss: 0.337627\tvalid_1's binary_logloss: 0.442916\n",
      "[130]\ttraining's binary_logloss: 0.33257\tvalid_1's binary_logloss: 0.441399\n",
      "[140]\ttraining's binary_logloss: 0.327433\tvalid_1's binary_logloss: 0.441955\n",
      "Early stopping, best iteration is:\n",
      "[130]\ttraining's binary_logloss: 0.33257\tvalid_1's binary_logloss: 0.441399\n"
     ]
    },
    {
     "name": "stderr",
     "output_type": "stream",
     "text": [
      "\u001b[32m[I 2020-12-08 18:20:54,747]\u001b[0m Trial 11 finished with value: 0.8181818181818182 and parameters: {'learning_rate': 0.04415589139449394, 'num_leaves': 77, 'max_depth': 32, 'min_data_in_leaf': 47}. Best is trial 3 with value: 0.8205741626794258.\u001b[0m\n",
      "\u001b[32m[I 2020-12-08 18:20:54,856]\u001b[0m Trial 12 finished with value: 0.8301435406698564 and parameters: {'learning_rate': 0.2925468727817966, 'num_leaves': 40, 'max_depth': 24, 'min_data_in_leaf': 19}. Best is trial 12 with value: 0.8301435406698564.\u001b[0m\n",
      "\u001b[32m[I 2020-12-08 18:20:54,981]\u001b[0m Trial 13 finished with value: 0.8253588516746412 and parameters: {'learning_rate': 0.3572847855787248, 'num_leaves': 37, 'max_depth': 21, 'min_data_in_leaf': 16}. Best is trial 12 with value: 0.8301435406698564.\u001b[0m\n"
     ]
    },
    {
     "name": "stdout",
     "output_type": "stream",
     "text": [
      "Training until validation scores don't improve for 10 rounds\n",
      "[10]\ttraining's binary_logloss: 0.294721\tvalid_1's binary_logloss: 0.42692\n",
      "Early stopping, best iteration is:\n",
      "[9]\ttraining's binary_logloss: 0.307309\tvalid_1's binary_logloss: 0.420314\n",
      "Training until validation scores don't improve for 10 rounds\n",
      "[10]\ttraining's binary_logloss: 0.247296\tvalid_1's binary_logloss: 0.437\n",
      "Early stopping, best iteration is:\n",
      "[6]\ttraining's binary_logloss: 0.308599\tvalid_1's binary_logloss: 0.419741\n"
     ]
    },
    {
     "name": "stderr",
     "output_type": "stream",
     "text": [
      "\u001b[32m[I 2020-12-08 18:20:55,088]\u001b[0m Trial 14 finished with value: 0.8349282296650717 and parameters: {'learning_rate': 0.3732247365582667, 'num_leaves': 32, 'max_depth': 20, 'min_data_in_leaf': 16}. Best is trial 14 with value: 0.8349282296650717.\u001b[0m\n",
      "\u001b[32m[I 2020-12-08 18:20:55,190]\u001b[0m Trial 15 finished with value: 0.8110047846889952 and parameters: {'learning_rate': 0.6414210847422301, 'num_leaves': 5, 'max_depth': 28, 'min_data_in_leaf': 19}. Best is trial 14 with value: 0.8349282296650717.\u001b[0m\n"
     ]
    },
    {
     "name": "stdout",
     "output_type": "stream",
     "text": [
      "Training until validation scores don't improve for 10 rounds\n",
      "[10]\ttraining's binary_logloss: 0.236024\tvalid_1's binary_logloss: 0.449451\n",
      "Early stopping, best iteration is:\n",
      "[5]\ttraining's binary_logloss: 0.324139\tvalid_1's binary_logloss: 0.418594\n",
      "Training until validation scores don't improve for 10 rounds\n",
      "[10]\ttraining's binary_logloss: 0.313903\tvalid_1's binary_logloss: 0.440649\n",
      "[20]\ttraining's binary_logloss: 0.275001\tvalid_1's binary_logloss: 0.457022\n",
      "Early stopping, best iteration is:\n",
      "[11]\ttraining's binary_logloss: 0.308977\tvalid_1's binary_logloss: 0.440104\n"
     ]
    },
    {
     "name": "stderr",
     "output_type": "stream",
     "text": [
      "\u001b[32m[I 2020-12-08 18:20:55,368]\u001b[0m Trial 16 finished with value: 0.8157894736842105 and parameters: {'learning_rate': 0.12533859661068678, 'num_leaves': 26, 'max_depth': 21, 'min_data_in_leaf': 68}. Best is trial 14 with value: 0.8349282296650717.\u001b[0m\n"
     ]
    },
    {
     "name": "stdout",
     "output_type": "stream",
     "text": [
      "Training until validation scores don't improve for 10 rounds\n",
      "[10]\ttraining's binary_logloss: 0.446363\tvalid_1's binary_logloss: 0.487458\n",
      "[20]\ttraining's binary_logloss: 0.408662\tvalid_1's binary_logloss: 0.469484\n",
      "[30]\ttraining's binary_logloss: 0.387784\tvalid_1's binary_logloss: 0.461618\n",
      "[40]\ttraining's binary_logloss: 0.371726\tvalid_1's binary_logloss: 0.455402\n",
      "[50]\ttraining's binary_logloss: 0.36248\tvalid_1's binary_logloss: 0.454495\n",
      "[60]\ttraining's binary_logloss: 0.353431\tvalid_1's binary_logloss: 0.452632\n",
      "[70]\ttraining's binary_logloss: 0.345122\tvalid_1's binary_logloss: 0.449106\n",
      "[80]\ttraining's binary_logloss: 0.336116\tvalid_1's binary_logloss: 0.446365\n",
      "[90]\ttraining's binary_logloss: 0.329722\tvalid_1's binary_logloss: 0.444173\n",
      "[100]\ttraining's binary_logloss: 0.32458\tvalid_1's binary_logloss: 0.442857\n",
      "[110]\ttraining's binary_logloss: 0.319448\tvalid_1's binary_logloss: 0.442695\n",
      "Early stopping, best iteration is:\n",
      "[104]\ttraining's binary_logloss: 0.322341\tvalid_1's binary_logloss: 0.441705\n",
      "Training until validation scores don't improve for 10 rounds\n",
      "[10]\ttraining's binary_logloss: 0.286451\tvalid_1's binary_logloss: 0.434569\n",
      "Early stopping, best iteration is:\n",
      "[6]\ttraining's binary_logloss: 0.344572\tvalid_1's binary_logloss: 0.429883\n"
     ]
    },
    {
     "name": "stderr",
     "output_type": "stream",
     "text": [
      "\u001b[32m[I 2020-12-08 18:20:55,481]\u001b[0m Trial 17 finished with value: 0.8157894736842105 and parameters: {'learning_rate': 0.3736069622263566, 'num_leaves': 62, 'max_depth': 32, 'min_data_in_leaf': 23}. Best is trial 14 with value: 0.8349282296650717.\u001b[0m\n",
      "\u001b[32m[I 2020-12-08 18:20:55,575]\u001b[0m Trial 18 finished with value: 0.7679425837320574 and parameters: {'learning_rate': 0.5875014374669518, 'num_leaves': 6, 'max_depth': 23, 'min_data_in_leaf': 127}. Best is trial 14 with value: 0.8349282296650717.\u001b[0m\n",
      "\u001b[32m[I 2020-12-08 18:20:55,672]\u001b[0m Trial 19 finished with value: 0.8325358851674641 and parameters: {'learning_rate': 0.75218139012201, 'num_leaves': 27, 'max_depth': 19, 'min_data_in_leaf': 29}. Best is trial 14 with value: 0.8349282296650717.\u001b[0m\n"
     ]
    },
    {
     "name": "stdout",
     "output_type": "stream",
     "text": [
      "Training until validation scores don't improve for 10 rounds\n",
      "[10]\ttraining's binary_logloss: 0.422336\tvalid_1's binary_logloss: 0.488821\n",
      "[20]\ttraining's binary_logloss: 0.407925\tvalid_1's binary_logloss: 0.487643\n",
      "Early stopping, best iteration is:\n",
      "[19]\ttraining's binary_logloss: 0.40849\tvalid_1's binary_logloss: 0.485803\n",
      "Training until validation scores don't improve for 10 rounds\n",
      "[10]\ttraining's binary_logloss: 0.235477\tvalid_1's binary_logloss: 0.479031\n",
      "Early stopping, best iteration is:\n",
      "[3]\ttraining's binary_logloss: 0.350908\tvalid_1's binary_logloss: 0.435238\n",
      "Number of finished trials: 20\n",
      "Best trial:\n",
      "  Value: 0.8349282296650717\n",
      "  Params: \n",
      "    learning_rate: 0.3732247365582667\n",
      "    num_leaves: 32\n",
      "    max_depth: 20\n",
      "    min_data_in_leaf: 16\n"
     ]
    }
   ],
   "source": [
    "def objective(trial):\n",
    "    X_train, X_valid, y_train, y_valid = train_test_split(\n",
    "        train_df[FEATURES],\n",
    "        train_df[TARGET],\n",
    "        test_size=len(full_test_df) / len(full_train_df),\n",
    "        random_state=RANDOM_STATE\n",
    "    )\n",
    "    lgb_train = lgb.Dataset(\n",
    "        X_train, y_train, categorical_feature=CATEGORIAL_FEATURES, free_raw_data=False)\n",
    "    lgb_valid = lgb.Dataset(\n",
    "        X_valid, y_valid, categorical_feature=CATEGORIAL_FEATURES, free_raw_data=False)\n",
    "\n",
    "    param = {\n",
    "        \"boosting_type\": \"gbdt\",\n",
    "        \"objective\": \"binary\",\n",
    "        \"metric\": \"binary_logloss\",\n",
    "        \"verbosity\": -1,\n",
    "        \"learning_rate\": trial.suggest_uniform(\"learning_rate\", 0.01, 1),\n",
    "        \"num_leaves\": trial.suggest_int(\"num_leaves\", 5, 127),\n",
    "        \"max_depth\": trial.suggest_int(\"max_depth\", 3, 32),\n",
    "        'min_data_in_leaf': trial.suggest_int(\"min_data_in_leaf\", 16, 127),\n",
    "        'random_state': RANDOM_STATE,\n",
    "    }\n",
    "\n",
    "    model = lgb.train(param,\n",
    "                      lgb_train,\n",
    "                      num_boost_round=200,\n",
    "                      early_stopping_rounds=10,\n",
    "                      verbose_eval=10,\n",
    "                      valid_sets=[lgb_train, lgb_valid])\n",
    "    y_pred = model.predict(X_valid) >= 0.5\n",
    "    accuracy = accuracy_score(y_valid, y_pred)\n",
    "\n",
    "    return accuracy\n",
    "\n",
    "\n",
    "study = optuna.create_study(\n",
    "    direction=\"maximize\", sampler=TPESampler(seed=RANDOM_STATE))\n",
    "study.optimize(objective, n_trials=20)\n",
    "\n",
    "print(\"Number of finished trials: {}\".format(len(study.trials)))\n",
    "\n",
    "print(\"Best trial:\")\n",
    "trial = study.best_trial\n",
    "\n",
    "print(\"  Value: {}\".format(trial.value))\n",
    "\n",
    "print(\"  Params: \")\n",
    "for key, value in trial.params.items():\n",
    "    print(\"    {}: {}\".format(key, value))"
   ]
  },
  {
   "cell_type": "markdown",
   "metadata": {},
   "source": [
    "## Start training"
   ]
  },
  {
   "cell_type": "code",
   "execution_count": 11,
   "metadata": {
    "ExecuteTime": {
     "end_time": "2020-12-08T10:20:55.700963Z",
     "start_time": "2020-12-08T10:20:55.685885Z"
    }
   },
   "outputs": [
    {
     "name": "stderr",
     "output_type": "stream",
     "text": [
      "UsageError: Line magic function `%` not found.\n"
     ]
    }
   ],
   "source": [
    "% % time\n",
    "params = {\n",
    "    'boosting_type': 'gbdt',\n",
    "    'objective': 'binary',\n",
    "    'metric': 'binary_logloss',\n",
    "    'learning_rate': 0.2,\n",
    "    'max_depth': 9,\n",
    "    'num_leaves': 117,\n",
    "    'min_data_in_leaf': 127,\n",
    "    'random_state': RANDOM_STATE,\n",
    "    'verbose': -1\n",
    "}\n",
    "\n",
    "params.update(trial.params)\n",
    "\n",
    "X_train, X_valid, y_train, y_valid = train_test_split(\n",
    "    train_df[FEATURES],\n",
    "    train_df[TARGET],\n",
    "    test_size=len(full_test_df) / len(full_train_df),\n",
    "    random_state=RANDOM_STATE\n",
    ")\n",
    "lgb_train = lgb.Dataset(\n",
    "    X_train, y_train, categorical_feature=CATEGORIAL_FEATURES, free_raw_data=False)\n",
    "lgb_valid = lgb.Dataset(\n",
    "    X_valid, y_valid, categorical_feature=CATEGORIAL_FEATURES, free_raw_data=False)\n",
    "\n",
    "model = lgb.train(params,\n",
    "                  lgb_train,\n",
    "                  num_boost_round=10000,\n",
    "                  early_stopping_rounds=20,\n",
    "                  verbose_eval=10,\n",
    "                  valid_sets=[lgb_train, lgb_valid])\n",
    "\n",
    "y_pred = model.predict(X_valid) >= 0.5\n",
    "\n",
    "accuracy = round(accuracy_score(y_valid, y_pred), 4)\n",
    "print('\\n\\n>> LGBM accuracy:', accuracy)"
   ]
  },
  {
   "cell_type": "markdown",
   "metadata": {},
   "source": [
    "## Feature Importance"
   ]
  },
  {
   "cell_type": "code",
   "execution_count": null,
   "metadata": {
    "ExecuteTime": {
     "end_time": "2020-12-08T10:20:55.705573Z",
     "start_time": "2020-12-08T10:20:36.190Z"
    }
   },
   "outputs": [],
   "source": [
    "lgb.plot_importance(model, figsize=(15, 10), importance_type='split')\n",
    "plt.show()"
   ]
  },
  {
   "cell_type": "code",
   "execution_count": null,
   "metadata": {
    "ExecuteTime": {
     "end_time": "2020-12-08T10:20:55.709548Z",
     "start_time": "2020-12-08T10:20:36.191Z"
    }
   },
   "outputs": [],
   "source": [
    "lgb.plot_importance(model, figsize=(15, 10), importance_type='gain')\n",
    "plt.show()"
   ]
  },
  {
   "cell_type": "code",
   "execution_count": null,
   "metadata": {
    "ExecuteTime": {
     "end_time": "2020-12-08T10:20:55.713671Z",
     "start_time": "2020-12-08T10:20:36.194Z"
    }
   },
   "outputs": [],
   "source": [
    "# show tree and save as png\n",
    "def save_tree_diagraph(model):\n",
    "    tree_digraph = lgb.create_tree_digraph(model, show_info=['split_gain', 'internal_count'])\n",
    "\n",
    "    tree_png = svg2png(tree_digraph._repr_svg_(), output_width=3840)\n",
    "    tree_png = Image.open(BytesIO(tree_png))\n",
    "\n",
    "    tree_png.save('tree_digraph.png')\n",
    "\n",
    "    display(tree_png)\n",
    "    \n",
    "save_tree_diagraph(model)"
   ]
  },
  {
   "cell_type": "code",
   "execution_count": null,
   "metadata": {
    "ExecuteTime": {
     "end_time": "2020-12-08T10:20:55.717647Z",
     "start_time": "2020-12-08T10:20:36.196Z"
    }
   },
   "outputs": [],
   "source": [
    "shap.initjs()\n",
    "\n",
    "explainer = shap.TreeExplainer(model)\n",
    "shap_values = explainer.shap_values(X_valid)\n",
    "\n",
    "shap.summary_plot(shap_values, X_valid, plot_type=\"bar\")"
   ]
  },
  {
   "cell_type": "markdown",
   "metadata": {},
   "source": [
    "# Submit"
   ]
  },
  {
   "cell_type": "code",
   "execution_count": null,
   "metadata": {
    "ExecuteTime": {
     "end_time": "2020-12-08T10:20:55.721750Z",
     "start_time": "2020-12-08T10:20:36.197Z"
    }
   },
   "outputs": [],
   "source": [
    "test_df[TARGET] = model.predict(test_df[FEATURES]) >= 0.5\n",
    "test_df[TARGET] = test_df[TARGET].astype(np.int8)\n",
    "submission_df = test_df[['PassengerId', TARGET]]\n",
    "submission_df.to_csv('output.csv', index=False)\n",
    "submission_df"
   ]
  },
  {
   "cell_type": "code",
   "execution_count": null,
   "metadata": {},
   "outputs": [],
   "source": []
  }
 ],
 "metadata": {
  "kernelspec": {
   "display_name": "Python 3",
   "language": "python",
   "name": "python3"
  },
  "language_info": {
   "codemirror_mode": {
    "name": "ipython",
    "version": 3
   },
   "file_extension": ".py",
   "mimetype": "text/x-python",
   "name": "python",
   "nbconvert_exporter": "python",
   "pygments_lexer": "ipython3",
   "version": "3.8.2"
  },
  "toc": {
   "base_numbering": 1,
   "nav_menu": {},
   "number_sections": true,
   "sideBar": true,
   "skip_h1_title": false,
   "title_cell": "Table of Contents",
   "title_sidebar": "Contents",
   "toc_cell": false,
   "toc_position": {},
   "toc_section_display": true,
   "toc_window_display": false
  }
 },
 "nbformat": 4,
 "nbformat_minor": 4
}
